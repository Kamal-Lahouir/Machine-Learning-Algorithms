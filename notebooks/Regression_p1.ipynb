{
 "cells": [
  {
   "cell_type": "markdown",
   "metadata": {},
   "source": [
    "# Machine learning : Regression notebook (P1)"
   ]
  },
  {
   "cell_type": "markdown",
   "metadata": {},
   "source": [
    "-------------------------"
   ]
  },
  {
   "cell_type": "markdown",
   "metadata": {},
   "source": [
    "In this notebook, we will go over all the following implementations  \n",
    "  \n",
    "I. Regression algorithms  \n",
    "1. Linear Regression algorithm \n",
    "2. Logistic Regression algorithm\n"
   ]
  },
  {
   "cell_type": "markdown",
   "metadata": {},
   "source": [
    "-----------------------"
   ]
  },
  {
   "cell_type": "markdown",
   "metadata": {},
   "source": [
    "Before we start, we will make sure we can import our models from external sources"
   ]
  },
  {
   "cell_type": "code",
   "execution_count": 10,
   "metadata": {},
   "outputs": [],
   "source": [
    "import os\n",
    "import sys\n",
    "sys.path.insert(0, os.path.abspath('../'))"
   ]
  },
  {
   "cell_type": "markdown",
   "metadata": {},
   "source": [
    "## Linear Regression"
   ]
  },
  {
   "cell_type": "markdown",
   "metadata": {},
   "source": [
    "On a first place we import all the libraries we need in Linear Regression"
   ]
  },
  {
   "cell_type": "code",
   "execution_count": 1,
   "metadata": {},
   "outputs": [],
   "source": [
    "# Imports\n",
    "import numpy as np\n",
    "import matplotlib.pyplot as plt\n",
    "import pandas as pd"
   ]
  },
  {
   "cell_type": "markdown",
   "metadata": {},
   "source": [
    "This is the part where we define a class of our model  \n",
    "The class contains the fit function and other functions to predict and plot the loss function"
   ]
  },
  {
   "cell_type": "code",
   "execution_count": 13,
   "metadata": {},
   "outputs": [],
   "source": [
    "# Import of the class of linearRegression that we implemented, to check the code please check src/modules\n",
    "from src.modules.linearRegression import linearRegression"
   ]
  },
  {
   "cell_type": "markdown",
   "metadata": {},
   "source": [
    "Import of some additional libraries to test"
   ]
  },
  {
   "cell_type": "code",
   "execution_count": 15,
   "metadata": {},
   "outputs": [],
   "source": [
    "# Import of libraries for sklearn\n",
    "from sklearn.model_selection import train_test_split\n",
    "from sklearn import datasets"
   ]
  },
  {
   "cell_type": "markdown",
   "metadata": {},
   "source": [
    "**Test Part**  \n",
    "We import the data then we plot it. After that, we get into our division of data and training our model.  \n",
    "Principally here we will test with a data that is generated through the library Sklearn library.  \n",
    "Firstly we plot our data to see it's general form then we apply a split into training and testing data and finally we apply our model\n"
   ]
  },
  {
   "cell_type": "code",
   "execution_count": 57,
   "metadata": {},
   "outputs": [],
   "source": [
    "# create a non linear data\n",
    "X,y = datasets.make_regression(n_samples=50,n_features=1,noise=20)"
   ]
  },
  {
   "cell_type": "markdown",
   "metadata": {},
   "source": [
    "We visualize the data we generated"
   ]
  },
  {
   "cell_type": "code",
   "execution_count": 58,
   "metadata": {},
   "outputs": [
    {
     "name": "stdout",
     "output_type": "stream",
     "text": [
      "Visualisation of the data : \n",
      "\n"
     ]
    },
    {
     "data": {
      "image/png": "[encoded data removed]",
      "text/plain": [
       "<Figure size 432x288 with 1 Axes>"
      ]
     },
     "metadata": {
      "needs_background": "light"
     },
     "output_type": "display_data"
    }
   ],
   "source": [
    "print(\"Visualisation of the data : \\n\")\n",
    "plt.scatter(X,y)\n",
    "plt.show()\n"
   ]
  },
  {
   "cell_type": "code",
   "execution_count": null,
   "metadata": {},
   "outputs": [],
   "source": [
    "## to use a data we have in the folder data\n",
    "\"\"\"\n",
    "df = pd.read_csv(\"data/cars.csv\")\n",
    "df_ = pd.DataFrame(df)\n",
    "column_maxes = df_.max()\n",
    "df_max = column_maxes.max()\n",
    "normalized_df = df_ / df_max\n",
    "\n",
    "X = np.array(normalized_df['speed'])\n",
    "X = X.reshape((X.shape[0],1))\n",
    "print(X.shape)\n",
    "y = np.array(normalized_df['dist'])\n",
    "print(y.shape)\n",
    "\"\"\"\n"
   ]
  },
  {
   "cell_type": "code",
   "execution_count": 59,
   "metadata": {},
   "outputs": [
    {
     "name": "stdout",
     "output_type": "stream",
     "text": [
      "(40, 1)\n"
     ]
    }
   ],
   "source": [
    "# split the data to train and test set\n",
    "X_train, X_test, Y_train ,Y_test = train_test_split(X,y , test_size=0.2,shuffle=True)\n",
    "\n",
    "# initiate the model\n",
    "model = linearRegression()\n",
    "\n",
    "# train the model\n",
    "model.fit(X_train,Y_train)\n",
    "\n",
    "# predict\n",
    "y_pred = model.predict(X_test)"
   ]
  },
  {
   "cell_type": "code",
   "execution_count": 60,
   "metadata": {},
   "outputs": [
    {
     "name": "stdout",
     "output_type": "stream",
     "text": [
      "(2,)\n",
      "Accuracy of the Perceptron algorithm:  0.9077263729815275 \n",
      "\n",
      "\n"
     ]
    }
   ],
   "source": [
    "# calculate the accuracy\n",
    "print(\"Accuracy of the Perceptron algorithm: \",model.accuracy(X_test,Y_test),\"\\n\\n\")"
   ]
  },
  {
   "cell_type": "code",
   "execution_count": 61,
   "metadata": {},
   "outputs": [
    {
     "name": "stdout",
     "output_type": "stream",
     "text": [
      "Visualisation of the loss function:\n",
      "\n"
     ]
    },
    {
     "data": {
      "image/png": "[encoded data removed]",
      "text/plain": [
       "<Figure size 432x288 with 1 Axes>"
      ]
     },
     "metadata": {
      "needs_background": "light"
     },
     "output_type": "display_data"
    }
   ],
   "source": [
    "# plot the emperical error\n",
    "print(\"Visualisation of the loss function:\\n\")\n",
    "model.draw_loss()"
   ]
  },
  {
   "cell_type": "code",
   "execution_count": 65,
   "metadata": {},
   "outputs": [
    {
     "name": "stdout",
     "output_type": "stream",
     "text": [
      "Visualisation of the separator: \n",
      "\n"
     ]
    },
    {
     "data": {
      "image/png": "[encoded data removed]",
      "text/plain": [
       "<Figure size 576x432 with 1 Axes>"
      ]
     },
     "metadata": {
      "needs_background": "light"
     },
     "output_type": "display_data"
    }
   ],
   "source": [
    "# plot of linear separator\n",
    "print(\"Visualisation of the separator: \\n\")\n",
    "y_pred_line = model.predict(X)\n",
    "cmap = plt.get_cmap('viridis')\n",
    "fig = plt.figure(figsize=(8,6))\n",
    "m1 = plt.scatter(X_train, Y_train , color = cmap(0.9), s = 50)\n",
    "m2 = plt.scatter(X_test, Y_test , color = cmap(0.5), s = 50)\n",
    "plt.plot(X , y_pred_line, color = 'black', linewidth = 2 , label = \"Prediction\")\n",
    "plt.show()"
   ]
  },
  {
   "cell_type": "markdown",
   "metadata": {},
   "source": [
    "## Logistic Regression"
   ]
  },
  {
   "cell_type": "markdown",
   "metadata": {},
   "source": [
    "We begin first by importing the main libraries we need"
   ]
  },
  {
   "cell_type": "code",
   "execution_count": 25,
   "metadata": {},
   "outputs": [],
   "source": [
    "# Import of libraries\n",
    "import numpy as np\n",
    "import matplotlib.pyplot as plt\n",
    "import pandas as pd"
   ]
  },
  {
   "cell_type": "markdown",
   "metadata": {},
   "source": [
    "Then we import our model of logistic regression, the code is available on src/modules"
   ]
  },
  {
   "cell_type": "code",
   "execution_count": 24,
   "metadata": {},
   "outputs": [],
   "source": [
    "from src.modules.logisticRegression import logisticRegression"
   ]
  },
  {
   "cell_type": "markdown",
   "metadata": {},
   "source": [
    "In order to go through the test of our model we need to import some additional librairies"
   ]
  },
  {
   "cell_type": "code",
   "execution_count": 26,
   "metadata": {},
   "outputs": [],
   "source": [
    "from sklearn.model_selection import train_test_split\n",
    "from sklearn import datasets"
   ]
  },
  {
   "cell_type": "code",
   "execution_count": 66,
   "metadata": {},
   "outputs": [],
   "source": [
    "# create a non linear data\n",
    "X,y = datasets.make_regression(n_samples=50,n_features=1,noise=20)"
   ]
  },
  {
   "cell_type": "code",
   "execution_count": null,
   "metadata": {},
   "outputs": [],
   "source": [
    "# to use a data we have in the folder data\n",
    "\"\"\"\n",
    "df = pd.read_excel(\"data/pop.xlsx\")\n",
    "df_ = pd.DataFrame(df)\n",
    "column_maxes = df_.max()\n",
    "df_max = column_maxes.max()\n",
    "normalized_df = df_ / df_max\n",
    "X = np.array(normalized_df.iloc[:,:-1])\n",
    "y = np.array(normalized_df.iloc[:,-1])\n",
    "\"\"\""
   ]
  },
  {
   "cell_type": "code",
   "execution_count": 67,
   "metadata": {},
   "outputs": [
    {
     "name": "stdout",
     "output_type": "stream",
     "text": [
      "Visualisation of data:\n",
      "\n"
     ]
    },
    {
     "data": {
      "image/png": "[encoded data removed]",
      "text/plain": [
       "<Figure size 432x288 with 1 Axes>"
      ]
     },
     "metadata": {
      "needs_background": "light"
     },
     "output_type": "display_data"
    }
   ],
   "source": [
    "# visulize it (close the first window of the visualization so start training the model)\n",
    "print(\"Visualisation of data:\\n\")\n",
    "plt.scatter(X,y)\n",
    "plt.show()"
   ]
  },
  {
   "cell_type": "code",
   "execution_count": 68,
   "metadata": {},
   "outputs": [
    {
     "name": "stdout",
     "output_type": "stream",
     "text": [
      "(40, 1)\n"
     ]
    }
   ],
   "source": [
    "# split the data to train and test set\n",
    "X_train, X_test, Y_train ,Y_test = train_test_split(X,y , test_size=0.2,shuffle=True)\n",
    "\n",
    "# initiate the model\n",
    "model = linearRegression()\n",
    "\n",
    "# train the model\n",
    "model.fit(X_train,Y_train)\n",
    "\n",
    "# predict\n",
    "y_pred = model.predict(X_test)"
   ]
  },
  {
   "cell_type": "code",
   "execution_count": 69,
   "metadata": {},
   "outputs": [
    {
     "name": "stdout",
     "output_type": "stream",
     "text": [
      "(2,)\n",
      "Accuracy:  0.7650042190906245\n"
     ]
    }
   ],
   "source": [
    "# calculate the accuracy\n",
    "print(\"Accuracy: \",model.accuracy(X_test,Y_test))"
   ]
  },
  {
   "cell_type": "code",
   "execution_count": 70,
   "metadata": {},
   "outputs": [
    {
     "name": "stdout",
     "output_type": "stream",
     "text": [
      "Visualisation of the loss function:\n",
      "\n"
     ]
    },
    {
     "data": {
      "image/png": "[encoded data removed]",
      "text/plain": [
       "<Figure size 432x288 with 1 Axes>"
      ]
     },
     "metadata": {
      "needs_background": "light"
     },
     "output_type": "display_data"
    }
   ],
   "source": [
    "# plot the emperical error\n",
    "print(\"Visualisation of the loss function:\\n\")\n",
    "model.draw_loss()"
   ]
  },
  {
   "cell_type": "code",
   "execution_count": 72,
   "metadata": {},
   "outputs": [
    {
     "name": "stdout",
     "output_type": "stream",
     "text": [
      "Visualisation of the separator: \n",
      "\n"
     ]
    },
    {
     "data": {
      "image/png": "[encoded data removed]",
      "text/plain": [
       "<Figure size 576x432 with 1 Axes>"
      ]
     },
     "metadata": {
      "needs_background": "light"
     },
     "output_type": "display_data"
    }
   ],
   "source": [
    "# plot of linear separator\n",
    "print(\"Visualisation of the separator: \\n\")\n",
    "y_pred_line = model.predict(X)\n",
    "cmap = plt.get_cmap('viridis')\n",
    "fig = plt.figure(figsize=(8,6))\n",
    "m1 = plt.scatter(X_train, Y_train , color = cmap(0.9), s = 50)\n",
    "m2 = plt.scatter(X_test, Y_test , color = cmap(0.5), s = 50)\n",
    "plt.plot(X , y_pred_line, color = 'black', linewidth = 2 , label = \"Prediction\")\n",
    "plt.show()\n"
   ]
  }
 ],
 "metadata": {
  "interpreter": {
   "hash": "d469deb4669423a30f10d583b4e1f87f1546b197831451aea5215b219f4c8bce"
  },
  "kernelspec": {
   "display_name": "Python 3.9.7 64-bit ('base': conda)",
   "language": "python",
   "name": "python3"
  },
  "language_info": {
   "codemirror_mode": {
    "name": "ipython",
    "version": 3
   },
   "file_extension": ".py",
   "mimetype": "text/x-python",
   "name": "python",
   "nbconvert_exporter": "python",
   "pygments_lexer": "ipython3",
   "version": "3.9.7"
  },
  "orig_nbformat": 4
 },
 "nbformat": 4,
 "nbformat_minor": 2
}
