{
 "cells": [
  {
   "cell_type": "markdown",
   "metadata": {},
   "source": [
    "# Machine learning : Classification notebook"
   ]
  },
  {
   "cell_type": "markdown",
   "metadata": {},
   "source": [
    "-----------------------------"
   ]
  },
  {
   "cell_type": "markdown",
   "metadata": {},
   "source": [
    "In this notebook, we will go over all the following implementations  \n",
    "  \n",
    "I. Classification algorithms  \n",
    "1. Perceptron algorithm \n",
    "2. Pocket algorithm\n",
    "3. Adalin algorithm\n",
    "  "
   ]
  },
  {
   "cell_type": "markdown",
   "metadata": {},
   "source": [
    "---------------------------------------"
   ]
  },
  {
   "cell_type": "markdown",
   "metadata": {},
   "source": [
    "Before we start, we will make sure we can import our models from external sources"
   ]
  },
  {
   "cell_type": "code",
   "execution_count": 39,
   "metadata": {},
   "outputs": [],
   "source": [
    "import os\n",
    "import sys\n",
    "sys.path.insert(0, os.path.abspath('../'))"
   ]
  },
  {
   "cell_type": "markdown",
   "metadata": {},
   "source": [
    "# Classification algorithms"
   ]
  },
  {
   "cell_type": "markdown",
   "metadata": {},
   "source": [
    "## 1. Perceptron algorithm"
   ]
  },
  {
   "cell_type": "markdown",
   "metadata": {},
   "source": [
    "### Model of Perceptron"
   ]
  },
  {
   "cell_type": "markdown",
   "metadata": {},
   "source": [
    "We will present first the libraries used then the class that contains the model."
   ]
  },
  {
   "cell_type": "code",
   "execution_count": 40,
   "metadata": {},
   "outputs": [],
   "source": [
    "# Libraries used in this algorithm \n",
    "import numpy as np\n",
    "import matplotlib.pyplot as plt"
   ]
  },
  {
   "cell_type": "markdown",
   "metadata": {},
   "source": [
    "### Testing of Perceptron"
   ]
  },
  {
   "cell_type": "markdown",
   "metadata": {},
   "source": [
    "We prepare our data first, we will use here sklearn to generate a data and we will plot it"
   ]
  },
  {
   "cell_type": "code",
   "execution_count": 41,
   "metadata": {},
   "outputs": [],
   "source": [
    "# Additional libraries\n",
    "from sklearn.model_selection import train_test_split\n",
    "from sklearn import datasets"
   ]
  },
  {
   "cell_type": "markdown",
   "metadata": {},
   "source": [
    "Data"
   ]
  },
  {
   "cell_type": "code",
   "execution_count": 42,
   "metadata": {},
   "outputs": [],
   "source": [
    "# create a non linear data\n",
    "X, y = datasets.make_blobs(\n",
    "    n_samples=100, n_features=2, centers=2, cluster_std=1.25, random_state=0\n",
    ")"
   ]
  },
  {
   "cell_type": "markdown",
   "metadata": {},
   "source": [
    "Visualisation of the data"
   ]
  },
  {
   "cell_type": "code",
   "execution_count": 43,
   "metadata": {},
   "outputs": [
    {
     "data": {
      "image/png": "[encoded data removed]",
      "text/plain": [
       "<Figure size 432x288 with 1 Axes>"
      ]
     },
     "metadata": {
      "needs_background": "light"
     },
     "output_type": "display_data"
    }
   ],
   "source": [
    "# visulize it (close the first window of the visualization so start training the model)\n",
    "plt.scatter(X[:,0],X[:,1],c=y)\n",
    "plt.show()"
   ]
  },
  {
   "cell_type": "markdown",
   "metadata": {},
   "source": [
    "### Test of the model"
   ]
  },
  {
   "cell_type": "code",
   "execution_count": 60,
   "metadata": {},
   "outputs": [
    {
     "name": "stdout",
     "output_type": "stream",
     "text": [
      "Error list per iteration:\n",
      "\n",
      "[0, 0.38333333333333336]\n",
      "[1, 0.38333333333333336]\n",
      "[2, 0.4083333333333333]\n",
      "[3, 0.4083333333333333]\n",
      "[4, 0.44166666666666665]\n",
      "[5, 0.45]\n",
      "[6, 0.4583333333333333]\n",
      "[7, 0.4666666666666667]\n",
      "[8, 0.475]\n",
      "[9, 0.475]\n",
      "[10, 0.45]\n",
      "[11, 0.4583333333333333]\n",
      "[12, 0.4583333333333333]\n",
      "[13, 0.475]\n",
      "[14, 0.475]\n",
      "[15, 0.49166666666666664]\n",
      "[16, 0.48333333333333334]\n",
      "[17, 0.475]\n",
      "[18, 0.475]\n",
      "[19, 0.475]\n",
      "[20, 0.4583333333333333]\n",
      "[21, 0.4583333333333333]\n",
      "[22, 0.4583333333333333]\n",
      "[23, 0.45]\n",
      "[24, 0.45]\n",
      "[25, 0.44166666666666665]\n",
      "[26, 0.44166666666666665]\n",
      "[27, 0.44166666666666665]\n",
      "[28, 0.44166666666666665]\n",
      "[29, 0.43333333333333335]\n",
      "[30, 0.43333333333333335]\n",
      "[31, 0.43333333333333335]\n",
      "[32, 0.43333333333333335]\n",
      "[33, 0.425]\n",
      "[34, 0.4166666666666667]\n",
      "[35, 0.4083333333333333]\n",
      "[36, 0.4]\n",
      "[37, 0.4]\n",
      "[38, 0.38333333333333336]\n",
      "[39, 0.375]\n",
      "[40, 0.375]\n",
      "[41, 0.375]\n",
      "[42, 0.36666666666666664]\n",
      "[43, 0.36666666666666664]\n",
      "[44, 0.36666666666666664]\n",
      "[45, 0.36666666666666664]\n",
      "[46, 0.3416666666666667]\n",
      "[47, 0.3416666666666667]\n",
      "[48, 0.3333333333333333]\n",
      "[49, 0.3333333333333333]\n",
      "[50, 0.3333333333333333]\n",
      "[51, 0.3333333333333333]\n",
      "[52, 0.325]\n",
      "[53, 0.325]\n",
      "[54, 0.325]\n",
      "[55, 0.325]\n",
      "[56, 0.325]\n",
      "[57, 0.325]\n",
      "[58, 0.31666666666666665]\n",
      "[59, 0.31666666666666665]\n",
      "[60, 0.31666666666666665]\n",
      "[61, 0.30833333333333335]\n",
      "[62, 0.2916666666666667]\n",
      "[63, 0.2833333333333333]\n",
      "[64, 0.275]\n",
      "[65, 0.26666666666666666]\n",
      "[66, 0.26666666666666666]\n",
      "[67, 0.26666666666666666]\n",
      "[68, 0.25833333333333336]\n",
      "[69, 0.26666666666666666]\n",
      "[70, 0.25]\n",
      "[71, 0.25833333333333336]\n",
      "[72, 0.25]\n",
      "[73, 0.25]\n",
      "[74, 0.24166666666666667]\n",
      "[75, 0.23333333333333334]\n",
      "[76, 0.225]\n",
      "[77, 0.225]\n",
      "[78, 0.21666666666666667]\n",
      "[79, 0.2]\n",
      "[80, 0.2]\n",
      "[81, 0.19166666666666668]\n",
      "[82, 0.175]\n",
      "[83, 0.14166666666666666]\n",
      "[84, 0.15833333333333333]\n",
      "[85, 0.15]\n",
      "[86, 0.15833333333333333]\n",
      "[87, 0.15]\n",
      "[88, 0.15833333333333333]\n",
      "[89, 0.16666666666666666]\n",
      "[90, 0.175]\n",
      "[91, 0.16666666666666666]\n",
      "[92, 0.19166666666666668]\n",
      "[93, 0.2]\n",
      "[94, 0.175]\n",
      "[95, 0.20833333333333334]\n",
      "[96, 0.2]\n",
      "[97, 0.175]\n",
      "[98, 0.175]\n",
      "[99, 0.21666666666666667]\n",
      "[100, 0.175]\n",
      "[101, 0.2]\n",
      "[102, 0.19166666666666668]\n",
      "[103, 0.175]\n",
      "[104, 0.20833333333333334]\n",
      "[105, 0.2]\n",
      "[106, 0.175]\n",
      "[107, 0.175]\n",
      "[108, 0.21666666666666667]\n",
      "[109, 0.175]\n",
      "[110, 0.175]\n",
      "[111, 0.175]\n",
      "[112, 0.20833333333333334]\n",
      "[113, 0.175]\n",
      "[114, 0.16666666666666666]\n",
      "[115, 0.20833333333333334]\n",
      "[116, 0.2]\n",
      "[117, 0.175]\n",
      "[118, 0.20833333333333334]\n",
      "[119, 0.175]\n",
      "[120, 0.16666666666666666]\n",
      "[121, 0.20833333333333334]\n",
      "[122, 0.2]\n",
      "[123, 0.175]\n",
      "[124, 0.175]\n",
      "[125, 0.21666666666666667]\n",
      "[126, 0.175]\n",
      "[127, 0.175]\n",
      "[128, 0.18333333333333332]\n",
      "[129, 0.20833333333333334]\n",
      "[130, 0.16666666666666666]\n",
      "[131, 0.175]\n",
      "[132, 0.20833333333333334]\n",
      "[133, 0.16666666666666666]\n",
      "[134, 0.175]\n",
      "[135, 0.20833333333333334]\n",
      "[136, 0.16666666666666666]\n",
      "[137, 0.175]\n",
      "[138, 0.20833333333333334]\n",
      "[139, 0.16666666666666666]\n",
      "[140, 0.175]\n",
      "[141, 0.20833333333333334]\n",
      "[142, 0.16666666666666666]\n",
      "[143, 0.175]\n",
      "[144, 0.20833333333333334]\n",
      "[145, 0.16666666666666666]\n",
      "[146, 0.175]\n",
      "[147, 0.20833333333333334]\n",
      "[148, 0.16666666666666666]\n",
      "[149, 0.175]\n",
      "[150, 0.225]\n",
      "[151, 0.18333333333333332]\n",
      "[152, 0.18333333333333332]\n",
      "[153, 0.19166666666666668]\n",
      "[154, 0.2]\n",
      "[155, 0.2]\n",
      "[156, 0.175]\n",
      "[157, 0.175]\n",
      "[158, 0.21666666666666667]\n",
      "[159, 0.175]\n",
      "[160, 0.2]\n",
      "[161, 0.19166666666666668]\n",
      "[162, 0.175]\n",
      "[163, 0.20833333333333334]\n",
      "[164, 0.2]\n",
      "[165, 0.175]\n",
      "[166, 0.175]\n",
      "[167, 0.21666666666666667]\n",
      "[168, 0.175]\n",
      "[169, 0.175]\n",
      "[170, 0.175]\n",
      "[171, 0.20833333333333334]\n",
      "[172, 0.175]\n",
      "[173, 0.16666666666666666]\n",
      "[174, 0.20833333333333334]\n",
      "[175, 0.2]\n",
      "[176, 0.175]\n",
      "[177, 0.20833333333333334]\n",
      "[178, 0.175]\n",
      "[179, 0.16666666666666666]\n",
      "[180, 0.20833333333333334]\n",
      "[181, 0.2]\n",
      "[182, 0.175]\n",
      "[183, 0.175]\n",
      "[184, 0.2]\n",
      "[185, 0.20833333333333334]\n",
      "[186, 0.16666666666666666]\n",
      "[187, 0.20833333333333334]\n",
      "[188, 0.2]\n",
      "[189, 0.175]\n",
      "[190, 0.175]\n",
      "[191, 0.20833333333333334]\n",
      "[192, 0.16666666666666666]\n",
      "[193, 0.175]\n",
      "[194, 0.20833333333333334]\n",
      "[195, 0.16666666666666666]\n",
      "[196, 0.175]\n",
      "[197, 0.20833333333333334]\n",
      "[198, 0.16666666666666666]\n",
      "[199, 0.2]\n",
      "[200, 0.19166666666666668]\n",
      "[201, 0.19166666666666668]\n",
      "[202, 0.19166666666666668]\n",
      "[203, 0.2]\n",
      "[204, 0.175]\n",
      "[205, 0.16666666666666666]\n",
      "[206, 0.20833333333333334]\n",
      "[207, 0.2]\n",
      "[208, 0.175]\n",
      "[209, 0.175]\n",
      "[210, 0.21666666666666667]\n",
      "[211, 0.20833333333333334]\n",
      "[212, 0.18333333333333332]\n",
      "[213, 0.19166666666666668]\n",
      "[214, 0.2]\n",
      "[215, 0.2]\n",
      "[216, 0.175]\n",
      "[217, 0.175]\n",
      "[218, 0.21666666666666667]\n",
      "[219, 0.175]\n",
      "[220, 0.175]\n",
      "[221, 0.175]\n",
      "[222, 0.20833333333333334]\n",
      "[223, 0.175]\n",
      "[224, 0.16666666666666666]\n",
      "[225, 0.20833333333333334]\n",
      "[226, 0.2]\n",
      "[227, 0.175]\n",
      "[228, 0.20833333333333334]\n",
      "[229, 0.175]\n",
      "[230, 0.16666666666666666]\n",
      "[231, 0.20833333333333334]\n",
      "[232, 0.2]\n",
      "[233, 0.175]\n",
      "[234, 0.175]\n",
      "[235, 0.21666666666666667]\n",
      "[236, 0.20833333333333334]\n",
      "[237, 0.18333333333333332]\n",
      "[238, 0.18333333333333332]\n",
      "[239, 0.15]\n",
      "[240, 0.2]\n",
      "[241, 0.19166666666666668]\n",
      "[242, 0.175]\n",
      "[243, 0.175]\n",
      "[244, 0.18333333333333332]\n",
      "[245, 0.20833333333333334]\n",
      "[246, 0.19166666666666668]\n",
      "[247, 0.175]\n",
      "[248, 0.16666666666666666]\n",
      "[249, 0.20833333333333334]\n",
      "[250, 0.19166666666666668]\n",
      "[251, 0.18333333333333332]\n",
      "[252, 0.18333333333333332]\n",
      "[253, 0.16666666666666666]\n",
      "[254, 0.16666666666666666]\n",
      "[255, 0.20833333333333334]\n",
      "[256, 0.2]\n",
      "[257, 0.175]\n",
      "[258, 0.175]\n",
      "[259, 0.21666666666666667]\n",
      "[260, 0.175]\n",
      "[261, 0.2]\n",
      "[262, 0.19166666666666668]\n",
      "[263, 0.175]\n",
      "[264, 0.20833333333333334]\n",
      "[265, 0.2]\n",
      "[266, 0.175]\n",
      "[267, 0.175]\n",
      "[268, 0.21666666666666667]\n",
      "[269, 0.175]\n",
      "[270, 0.175]\n",
      "[271, 0.175]\n",
      "[272, 0.20833333333333334]\n",
      "[273, 0.175]\n",
      "[274, 0.16666666666666666]\n",
      "[275, 0.20833333333333334]\n",
      "[276, 0.2]\n",
      "[277, 0.175]\n",
      "[278, 0.20833333333333334]\n",
      "[279, 0.175]\n",
      "[280, 0.16666666666666666]\n",
      "[281, 0.20833333333333334]\n",
      "[282, 0.2]\n",
      "[283, 0.175]\n",
      "[284, 0.175]\n",
      "[285, 0.21666666666666667]\n",
      "[286, 0.175]\n",
      "[287, 0.175]\n",
      "[288, 0.18333333333333332]\n",
      "[289, 0.20833333333333334]\n",
      "[290, 0.16666666666666666]\n",
      "[291, 0.175]\n",
      "[292, 0.20833333333333334]\n",
      "[293, 0.16666666666666666]\n",
      "[294, 0.175]\n",
      "[295, 0.20833333333333334]\n",
      "[296, 0.16666666666666666]\n",
      "[297, 0.175]\n",
      "[298, 0.20833333333333334]\n",
      "[299, 0.16666666666666666]\n",
      "[300, 0.175]\n",
      "[301, 0.20833333333333334]\n",
      "[302, 0.16666666666666666]\n",
      "[303, 0.175]\n",
      "[304, 0.20833333333333334]\n",
      "[305, 0.16666666666666666]\n",
      "[306, 0.175]\n",
      "[307, 0.20833333333333334]\n",
      "[308, 0.16666666666666666]\n",
      "[309, 0.175]\n",
      "[310, 0.225]\n",
      "[311, 0.15]\n",
      "[312, 0.2]\n",
      "[313, 0.19166666666666668]\n",
      "[314, 0.175]\n",
      "[315, 0.20833333333333334]\n",
      "[316, 0.2]\n",
      "[317, 0.175]\n",
      "[318, 0.175]\n",
      "[319, 0.21666666666666667]\n",
      "[320, 0.20833333333333334]\n",
      "[321, 0.18333333333333332]\n",
      "[322, 0.19166666666666668]\n",
      "[323, 0.2]\n",
      "[324, 0.2]\n",
      "[325, 0.175]\n",
      "[326, 0.175]\n",
      "[327, 0.21666666666666667]\n",
      "[328, 0.175]\n",
      "[329, 0.175]\n",
      "[330, 0.175]\n",
      "[331, 0.20833333333333334]\n",
      "[332, 0.175]\n",
      "[333, 0.16666666666666666]\n",
      "[334, 0.20833333333333334]\n",
      "[335, 0.2]\n",
      "[336, 0.175]\n",
      "[337, 0.20833333333333334]\n",
      "[338, 0.175]\n",
      "[339, 0.16666666666666666]\n",
      "[340, 0.20833333333333334]\n",
      "[341, 0.2]\n",
      "[342, 0.175]\n",
      "[343, 0.175]\n",
      "[344, 0.21666666666666667]\n",
      "[345, 0.175]\n",
      "[346, 0.175]\n",
      "[347, 0.18333333333333332]\n",
      "[348, 0.20833333333333334]\n",
      "[349, 0.16666666666666666]\n",
      "[350, 0.175]\n",
      "[351, 0.20833333333333334]\n",
      "[352, 0.16666666666666666]\n",
      "[353, 0.175]\n",
      "[354, 0.20833333333333334]\n",
      "[355, 0.16666666666666666]\n",
      "[356, 0.175]\n",
      "[357, 0.20833333333333334]\n",
      "[358, 0.16666666666666666]\n",
      "[359, 0.175]\n",
      "[360, 0.20833333333333334]\n",
      "[361, 0.16666666666666666]\n",
      "[362, 0.175]\n",
      "[363, 0.20833333333333334]\n",
      "[364, 0.16666666666666666]\n",
      "[365, 0.175]\n",
      "[366, 0.20833333333333334]\n",
      "[367, 0.16666666666666666]\n",
      "[368, 0.175]\n",
      "[369, 0.225]\n",
      "[370, 0.15]\n",
      "[371, 0.2]\n",
      "[372, 0.18333333333333332]\n",
      "[373, 0.19166666666666668]\n",
      "[374, 0.2]\n",
      "[375, 0.2]\n",
      "[376, 0.175]\n",
      "[377, 0.175]\n",
      "[378, 0.21666666666666667]\n",
      "[379, 0.175]\n",
      "[380, 0.2]\n",
      "[381, 0.19166666666666668]\n",
      "[382, 0.175]\n",
      "[383, 0.20833333333333334]\n",
      "[384, 0.2]\n",
      "[385, 0.175]\n",
      "[386, 0.175]\n",
      "[387, 0.21666666666666667]\n",
      "[388, 0.20833333333333334]\n",
      "[389, 0.18333333333333332]\n",
      "[390, 0.18333333333333332]\n",
      "[391, 0.15]\n",
      "[392, 0.2]\n",
      "[393, 0.19166666666666668]\n",
      "[394, 0.175]\n",
      "[395, 0.175]\n",
      "[396, 0.16666666666666666]\n",
      "[397, 0.18333333333333332]\n",
      "[398, 0.175]\n",
      "[399, 0.2]\n",
      "[400, 0.18333333333333332]\n",
      "[401, 0.19166666666666668]\n",
      "[402, 0.2]\n",
      "[403, 0.2]\n",
      "[404, 0.175]\n",
      "[405, 0.175]\n",
      "[406, 0.20833333333333334]\n",
      "[407, 0.16666666666666666]\n",
      "[408, 0.175]\n",
      "[409, 0.20833333333333334]\n",
      "[410, 0.16666666666666666]\n",
      "[411, 0.175]\n",
      "[412, 0.20833333333333334]\n",
      "[413, 0.16666666666666666]\n",
      "[414, 0.175]\n",
      "[415, 0.20833333333333334]\n",
      "[416, 0.16666666666666666]\n",
      "[417, 0.16666666666666666]\n",
      "[418, 0.175]\n",
      "[419, 0.18333333333333332]\n",
      "[420, 0.21666666666666667]\n",
      "[421, 0.175]\n",
      "[422, 0.175]\n",
      "[423, 0.175]\n",
      "[424, 0.175]\n",
      "[425, 0.16666666666666666]\n",
      "[426, 0.18333333333333332]\n",
      "[427, 0.175]\n",
      "[428, 0.2]\n",
      "[429, 0.18333333333333332]\n",
      "[430, 0.19166666666666668]\n",
      "[431, 0.2]\n",
      "[432, 0.175]\n",
      "[433, 0.16666666666666666]\n",
      "[434, 0.20833333333333334]\n",
      "[435, 0.2]\n",
      "[436, 0.175]\n",
      "[437, 0.175]\n",
      "[438, 0.20833333333333334]\n",
      "[439, 0.16666666666666666]\n",
      "[440, 0.175]\n",
      "[441, 0.20833333333333334]\n",
      "[442, 0.16666666666666666]\n",
      "[443, 0.175]\n",
      "[444, 0.20833333333333334]\n",
      "[445, 0.16666666666666666]\n",
      "[446, 0.175]\n",
      "[447, 0.175]\n",
      "[448, 0.175]\n",
      "[449, 0.16666666666666666]\n",
      "[450, 0.18333333333333332]\n",
      "[451, 0.175]\n",
      "[452, 0.2]\n",
      "[453, 0.18333333333333332]\n",
      "[454, 0.19166666666666668]\n",
      "[455, 0.2]\n",
      "[456, 0.175]\n",
      "[457, 0.16666666666666666]\n",
      "[458, 0.20833333333333334]\n",
      "[459, 0.2]\n",
      "[460, 0.175]\n",
      "[461, 0.175]\n",
      "[462, 0.20833333333333334]\n",
      "[463, 0.16666666666666666]\n",
      "[464, 0.175]\n",
      "[465, 0.20833333333333334]\n",
      "[466, 0.16666666666666666]\n",
      "[467, 0.175]\n",
      "[468, 0.20833333333333334]\n",
      "[469, 0.16666666666666666]\n",
      "[470, 0.2]\n",
      "[471, 0.19166666666666668]\n",
      "[472, 0.19166666666666668]\n",
      "[473, 0.19166666666666668]\n",
      "[474, 0.2]\n",
      "[475, 0.175]\n",
      "[476, 0.16666666666666666]\n",
      "[477, 0.20833333333333334]\n",
      "[478, 0.2]\n",
      "[479, 0.175]\n",
      "[480, 0.175]\n",
      "[481, 0.21666666666666667]\n",
      "[482, 0.20833333333333334]\n",
      "[483, 0.18333333333333332]\n",
      "[484, 0.19166666666666668]\n",
      "[485, 0.2]\n",
      "[486, 0.2]\n",
      "[487, 0.175]\n",
      "[488, 0.175]\n",
      "[489, 0.21666666666666667]\n",
      "[490, 0.175]\n",
      "[491, 0.175]\n",
      "[492, 0.175]\n",
      "[493, 0.20833333333333334]\n",
      "[494, 0.175]\n",
      "[495, 0.16666666666666666]\n",
      "[496, 0.20833333333333334]\n",
      "[497, 0.2]\n",
      "[498, 0.175]\n",
      "[499, 0.20833333333333334]\n",
      "\n",
      "Perceptron classification accuracy 0.9\n"
     ]
    }
   ],
   "source": [
    "# we import the model\n",
    "from src.modules.perceptron import Perceptron\n",
    "\n",
    "# Computation of the accuracy of the model\n",
    "def accuracy(y_true, y_pred):\n",
    "    accuracy = np.sum(y_true == y_pred) / len(y_true)\n",
    "    return accuracy\n",
    "\n",
    "# Train test data spliting\n",
    "X_train, X_test, y_train, y_test = train_test_split(\n",
    "    X, y, test_size=0.2, random_state=42\n",
    ")\n",
    "print(\"Error list per iteration:\\n\")\n",
    "p = Perceptron(learning_rate=0.001, n_iters=500)\n",
    "p.fit(X_train, y_train)\n",
    "predictions = p.predict(X_test)\n",
    "\n",
    "print(\"\\nPerceptron classification accuracy\", accuracy(y_test, predictions))\n",
    "\n"
   ]
  },
  {
   "cell_type": "code",
   "execution_count": 45,
   "metadata": {},
   "outputs": [
    {
     "data": {
      "image/png": "[encoded data removed]",
      "text/plain": [
       "<Figure size 432x288 with 1 Axes>"
      ]
     },
     "metadata": {
      "needs_background": "light"
     },
     "output_type": "display_data"
    }
   ],
   "source": [
    "\n",
    "fig = plt.figure()\n",
    "ax = fig.add_subplot(1, 1, 1)\n",
    "plt.scatter(X_train[:, 0], X_train[:, 1], marker=\"o\", c=y_train)\n",
    "\n",
    "x0_1 = np.amin(X_train[:, 0])\n",
    "x0_2 = np.amax(X_train[:, 0])\n",
    "\n",
    "x1_1 = (-p.weights[0] * x0_1 - p.bias) / p.weights[1]\n",
    "x1_2 = (-p.weights[0] * x0_2 - p.bias) / p.weights[1]\n",
    "\n",
    "ax.plot([x0_1, x0_2], [x1_1, x1_2], \"k\")\n",
    "\n",
    "ymin = np.amin(X_train[:, 1])\n",
    "ymax = np.amax(X_train[:, 1])\n",
    "ax.set_ylim([ymin - 3, ymax + 3])\n",
    "\n",
    "plt.show()\n",
    "plt.close('all')\n"
   ]
  },
  {
   "cell_type": "code",
   "execution_count": 46,
   "metadata": {},
   "outputs": [
    {
     "data": {
      "image/png": "[encoded data removed]",
      "text/plain": [
       "<Figure size 432x288 with 1 Axes>"
      ]
     },
     "metadata": {
      "needs_background": "light"
     },
     "output_type": "display_data"
    }
   ],
   "source": [
    "# plot the emperical error\n",
    "p.draw_loss()"
   ]
  },
  {
   "cell_type": "markdown",
   "metadata": {},
   "source": [
    "# 2. Pocket Algorithm"
   ]
  },
  {
   "cell_type": "markdown",
   "metadata": {},
   "source": [
    "### Model of Pocket"
   ]
  },
  {
   "cell_type": "markdown",
   "metadata": {},
   "source": [
    "We will present first the libraries used then the class that contains the model."
   ]
  },
  {
   "cell_type": "code",
   "execution_count": 47,
   "metadata": {},
   "outputs": [],
   "source": [
    "# Libraries used in this algorithm \n",
    "import numpy as np\n",
    "import matplotlib.pyplot as plt"
   ]
  },
  {
   "cell_type": "markdown",
   "metadata": {},
   "source": [
    "We import our model from folder src/modules"
   ]
  },
  {
   "cell_type": "code",
   "execution_count": 48,
   "metadata": {},
   "outputs": [],
   "source": [
    "from src.modules.pocket import Pocket"
   ]
  },
  {
   "cell_type": "markdown",
   "metadata": {},
   "source": [
    "### Testing of Perceptron"
   ]
  },
  {
   "cell_type": "markdown",
   "metadata": {},
   "source": [
    "We prepare our data first, we will use here sklearn to generate a data and we will plot it"
   ]
  },
  {
   "cell_type": "code",
   "execution_count": 49,
   "metadata": {},
   "outputs": [],
   "source": [
    "# Additional libraries\n",
    "from sklearn.model_selection import train_test_split\n",
    "from sklearn import datasets"
   ]
  },
  {
   "cell_type": "markdown",
   "metadata": {},
   "source": [
    "Data"
   ]
  },
  {
   "cell_type": "code",
   "execution_count": 50,
   "metadata": {},
   "outputs": [],
   "source": [
    "# create a non linear data\n",
    "X,y = datasets.make_moons(150, noise=0.1, random_state=5)"
   ]
  },
  {
   "cell_type": "markdown",
   "metadata": {},
   "source": [
    "Visualisation of the data"
   ]
  },
  {
   "cell_type": "code",
   "execution_count": 51,
   "metadata": {},
   "outputs": [
    {
     "data": {
      "image/png": "[encoded data removed]",
      "text/plain": [
       "<Figure size 432x288 with 1 Axes>"
      ]
     },
     "metadata": {
      "needs_background": "light"
     },
     "output_type": "display_data"
    }
   ],
   "source": [
    "# visulize it (close the first window of the visualization so start training the model)\n",
    "plt.scatter(X[:,0],X[:,1],c=y)\n",
    "plt.show()"
   ]
  },
  {
   "cell_type": "markdown",
   "metadata": {},
   "source": [
    "### Test of the model"
   ]
  },
  {
   "cell_type": "code",
   "execution_count": 52,
   "metadata": {},
   "outputs": [],
   "source": [
    "# add column of 1 to X\n",
    "X_hstacked = np.hstack((X,np.ones((len(X),1))))\n",
    "\n",
    "# split the data to train and test set\n",
    "X_train, X_test, Y_train ,Y_test = train_test_split(X_hstacked,y , test_size=0.2,shuffle=True)\n"
   ]
  },
  {
   "cell_type": "code",
   "execution_count": 53,
   "metadata": {},
   "outputs": [
    {
     "name": "stdout",
     "output_type": "stream",
     "text": [
      "Accuracy:  0.7666666666666667\n"
     ]
    },
    {
     "data": {
      "image/png": "[encoded data removed]",
      "text/plain": [
       "<Figure size 432x288 with 1 Axes>"
      ]
     },
     "metadata": {
      "needs_background": "light"
     },
     "output_type": "display_data"
    }
   ],
   "source": [
    "\n",
    "# initiate the model\n",
    "model = Pocket([0.01,0.0003,0.1],T_max=100)\n",
    "\n",
    "# train the model\n",
    "model.fit(X_train,Y_train)\n",
    "\n",
    "# predict\n",
    "y_pred = model.predict(X_test)\n",
    "\n",
    "# calculate the accuracy\n",
    "print(\"Accuracy: \",model.accuracy(y_pred,Y_test))\n",
    "\n",
    "# plot the emperical error\n",
    "model.draw_loss()\n"
   ]
  },
  {
   "cell_type": "markdown",
   "metadata": {},
   "source": [
    "# 3. Adalin Algorithm"
   ]
  },
  {
   "cell_type": "markdown",
   "metadata": {},
   "source": [
    "### Model of Adalin"
   ]
  },
  {
   "cell_type": "markdown",
   "metadata": {},
   "source": [
    "We will present first the libraries used then the class that contains the model."
   ]
  },
  {
   "cell_type": "code",
   "execution_count": 54,
   "metadata": {},
   "outputs": [],
   "source": [
    "import numpy as np\n",
    "import matplotlib.pyplot as plt"
   ]
  },
  {
   "cell_type": "markdown",
   "metadata": {},
   "source": [
    "Generation of the data"
   ]
  },
  {
   "cell_type": "code",
   "execution_count": 55,
   "metadata": {},
   "outputs": [],
   "source": [
    "# create a non linear data\n",
    "X,y = datasets.make_moons(150, noise=0.1, random_state=0)"
   ]
  },
  {
   "cell_type": "markdown",
   "metadata": {},
   "source": [
    "Visualisation of the data"
   ]
  },
  {
   "cell_type": "code",
   "execution_count": 56,
   "metadata": {},
   "outputs": [
    {
     "data": {
      "image/png": "[encoded data removed]",
      "text/plain": [
       "<Figure size 432x288 with 1 Axes>"
      ]
     },
     "metadata": {
      "needs_background": "light"
     },
     "output_type": "display_data"
    }
   ],
   "source": [
    "# visulize it (close the first window of the visualization so start training the model)\n",
    "plt.scatter(X[:,0],X[:,1],c=y)\n",
    "plt.show()"
   ]
  },
  {
   "cell_type": "markdown",
   "metadata": {},
   "source": [
    "We import our model from folder src/modules"
   ]
  },
  {
   "cell_type": "code",
   "execution_count": 57,
   "metadata": {},
   "outputs": [],
   "source": [
    "from src.modules.adalin import Adalin"
   ]
  },
  {
   "cell_type": "markdown",
   "metadata": {},
   "source": [
    "### Testing of Adalin"
   ]
  },
  {
   "cell_type": "markdown",
   "metadata": {},
   "source": [
    "We prepare our data first, we will use here sklearn to generate a data and we will plot it"
   ]
  },
  {
   "cell_type": "code",
   "execution_count": 58,
   "metadata": {},
   "outputs": [
    {
     "name": "stdout",
     "output_type": "stream",
     "text": [
      "Accuracy:  0.9333333333333333\n"
     ]
    },
    {
     "data": {
      "image/png": "[encoded data removed]",
      "text/plain": [
       "<Figure size 432x288 with 1 Axes>"
      ]
     },
     "metadata": {
      "needs_background": "light"
     },
     "output_type": "display_data"
    }
   ],
   "source": [
    "# add column of 1 to X\n",
    "X_hstacked = np.hstack((X,np.ones((len(X),1))))\n",
    "\n",
    "# split the data to train and test set\n",
    "X_train, X_test, Y_train ,Y_test = train_test_split(X_hstacked,y , test_size=0.2,shuffle=True)\n",
    "\n",
    "# initiate the model\n",
    "model = Adalin([0.1,0.003,1],T_max=100)\n",
    "\n",
    "# train the model\n",
    "model.fit(X_train,Y_train)\n",
    "\n",
    "# predict\n",
    "y_pred = model.predict(X_test)\n",
    "\n",
    "# calculate the accuracy\n",
    "print(\"Accuracy: \",model.accuracy(y_pred,Y_test))\n",
    "\n",
    "# plot the emperical error\n",
    "model.draw_loss()\n"
   ]
  },
  {
   "cell_type": "markdown",
   "metadata": {},
   "source": [
    "## Problems so far in the part of classification"
   ]
  },
  {
   "cell_type": "markdown",
   "metadata": {},
   "source": [
    "Overall, the main problem concern the error function with many tries same problem persist after long time of trying to fix it. "
   ]
  }
 ],
 "metadata": {
  "interpreter": {
   "hash": "c6e6b777d36923e78f2d63b5a6263ab5092d497a62fbd3d101884c2508d831f4"
  },
  "kernelspec": {
   "display_name": "Python 3.9.7 64-bit ('venv': venv)",
   "language": "python",
   "name": "python3"
  },
  "language_info": {
   "codemirror_mode": {
    "name": "ipython",
    "version": 3
   },
   "file_extension": ".py",
   "mimetype": "text/x-python",
   "name": "python",
   "nbconvert_exporter": "python",
   "pygments_lexer": "ipython3",
   "version": "3.9.7"
  },
  "orig_nbformat": 4
 },
 "nbformat": 4,
 "nbformat_minor": 2
}
